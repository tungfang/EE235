{
 "cells": [
  {
   "cell_type": "markdown",
   "metadata": {},
   "source": [
    "## Lab 2 Report\n",
    "\n",
    "Charles Tung Fang"
   ]
  },
  {
   "cell_type": "code",
   "execution_count": 3,
   "metadata": {},
   "outputs": [],
   "source": [
    "# We'll refer to this as the \"import cell.\" Every module you import should be imported here.\n",
    "%matplotlib notebook\n",
    "import numpy as np\n",
    "import matplotlib\n",
    "import matplotlib.pyplot as plt\n",
    "# import whatever other modules you use in this lab -- there are more that you need than we've included "
   ]
  },
  {
   "cell_type": "markdown",
   "metadata": {},
   "source": [
    "## Summary\n",
    "\n",
    "Include a brief abstract summarizing what this lab involves. (This should be a markup cell.)"
   ]
  },
  {
   "cell_type": "markdown",
   "metadata": {},
   "source": [
    "## Assignment 1 --  Time Scaling Audio Signals"
   ]
  },
  {
   "cell_type": "code",
   "execution_count": null,
   "metadata": {},
   "outputs": [],
   "source": [
    "# Assignment 1 - Time Scaling Function\n",
    "\n",
    "# Part A\n",
    "# TODO: Here you'd put in your code for the time scaling function\n",
    "# Start with a comment section that explains what the input and output variables are, e.g.\n",
    "# x: input signal vector\n",
    "# fs: sampling rate (in Hz)\n",
    "# a: scaling parameter \n",
    "# returns t: time samples vector corresponding to y: scaled signal\n"
   ]
  },
  {
   "cell_type": "code",
   "execution_count": 4,
   "metadata": {},
   "outputs": [],
   "source": [
    "# Assignment 1 - Playing and Plotting Time Scaled Audio Files \n",
    "\n",
    "# Part B\n",
    "# TODO: Code that solves B\n",
    "\n",
    "# Part C\n",
    "# TODO: Code that solves C\n",
    "\n",
    "# Part D\n",
    "# TODO: Code that solves D"
   ]
  },
  {
   "cell_type": "markdown",
   "metadata": {},
   "source": [
    "###  Discussion\n",
    "\n",
    "Include discussion on this assignment, answering any questions. This is a markdown cell.\n"
   ]
  },
  {
   "cell_type": "markdown",
   "metadata": {},
   "source": [
    "## Assignment 2 -- (title of assignment 2)"
   ]
  },
  {
   "cell_type": "code",
   "execution_count": null,
   "metadata": {},
   "outputs": [],
   "source": [
    "# Assignment 2 - Title of Assignment 2\n",
    "\n",
    "# Part A\n",
    "# TODO: Code that solves A\n",
    "# Start with a comment section that explains what the input variables are\n"
   ]
  },
  {
   "cell_type": "code",
   "execution_count": 5,
   "metadata": {},
   "outputs": [],
   "source": [
    "# Assignment 2 - Title of Assignment 2\n",
    "\n",
    "# Part B\n",
    "# TODO: Code that solves B\n",
    "\n",
    "# Part C\n",
    "# TODO: Code that solves C\n"
   ]
  },
  {
   "cell_type": "markdown",
   "metadata": {},
   "source": [
    "###  Discussion\n",
    "\n",
    "Include discussion on this assignment, answering any questions. This is a markdown cell."
   ]
  },
  {
   "cell_type": "markdown",
   "metadata": {},
   "source": [
    "## Assignment 3 -- (title of assignment 3)"
   ]
  },
  {
   "cell_type": "code",
   "execution_count": 6,
   "metadata": {},
   "outputs": [],
   "source": [
    "# Assignment 3 -- Title of assignment 3\n",
    "\n",
    "# Part A\n",
    "# TODO: Code that solves A\n",
    "\n",
    "# Part B\n",
    "# TODO: Code that solves B\n",
    "\n",
    "# Part C\n",
    "# TODO: Code that solves C\n"
   ]
  },
  {
   "cell_type": "markdown",
   "metadata": {},
   "source": [
    "### Discussion\n",
    "\n",
    "Include discussion on this assignment, answering any questions. This is a markdown cell.\n"
   ]
  }
 ],
 "metadata": {
  "kernelspec": {
   "display_name": "Python 3",
   "language": "python",
   "name": "python3"
  },
  "language_info": {
   "codemirror_mode": {
    "name": "ipython",
    "version": 3
   },
   "file_extension": ".py",
   "mimetype": "text/x-python",
   "name": "python",
   "nbconvert_exporter": "python",
   "pygments_lexer": "ipython3",
   "version": "3.6.5"
  }
 },
 "nbformat": 4,
 "nbformat_minor": 2
}
