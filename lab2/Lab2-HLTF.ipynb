{
 "cells": [
  {
   "cell_type": "markdown",
   "metadata": {},
   "source": [
    "## Lab 2 Report\n",
    "\n",
    "Hsuan-Chung Hung, Scott Lin, Charles Tung Fang"
   ]
  },
  {
   "cell_type": "code",
   "execution_count": 36,
   "metadata": {},
   "outputs": [],
   "source": [
    "# We'll refer to this as the \"import cell.\" Every module you import should be imported here.\n",
    "%matplotlib notebook\n",
    "import numpy as np\n",
    "import matplotlib\n",
    "import matplotlib.pyplot as plt\n",
    "import scipy\n",
    "from scipy.io import wavfile as wav\n",
    "from scipy import signal as sig\n",
    "import simpleaudio as sa\n",
    "import decimal\n",
    "# import whatever other modules you use in this lab -- there are more that you need than we've included "
   ]
  },
  {
   "cell_type": "markdown",
   "metadata": {},
   "source": [
    "## Summary\n",
    "\n",
    "This lab is a series of exercises to perform transformations on continuoustime signals, and get comfortable with relevant Python functions. There are 3 assignments done in this lab: Time Scaling Audio Signals, Time Shift Operation, Recovering Popular TV/Movie Audio File."
   ]
  },
  {
   "cell_type": "markdown",
   "metadata": {},
   "source": [
    "## Assignment 1 --  Time Scaling Audio Signals (Title of Assignment 1)"
   ]
  },
  {
   "cell_type": "code",
   "execution_count": 37,
   "metadata": {},
   "outputs": [],
   "source": [
    "# Assignment 1 - Time Scaling Function\n",
    "\n",
    "# Part A\n",
    "# x: input signal vector\n",
    "# fs: sampling rate (in Hz)\n",
    "# a: scaling parameter \n",
    "# returns t: time samples vector corresponding to y: scaled signal\n",
    "def timescale(x, fs, a):\n",
    "    n, d = decimal.Decimal(a).as_integer_ratio()\n",
    "    y = sig.resample_poly(x, d, n)\n",
    "    t = np.arange(0, len(y), 1) * (1 / fs)\n",
    "    return y, t\n"
   ]
  },
  {
   "cell_type": "code",
   "execution_count": null,
   "metadata": {},
   "outputs": [],
   "source": [
    "# Assignment 1 - Playing and Plotting Time Scaled Audio Files \n",
    "\n",
    "# Part B\n",
    "fs, y = wav.read('train32.wav')\n",
    "ch1 = len(y.shape)\n",
    "t_y = np.arange(0, len(y), 1) * (1 / fs)\n",
    "\n",
    "\n",
    "# Part C\n",
    "w, t_w = timescale(y, fs, 2)\n",
    "v, t_v = timescale(y, fs, 0.5)\n",
    "w = 0.7 * w\n",
    "v = 0.7 * v\n",
    "y = 0.7 * y\n",
    "y = np.int16(y)\n",
    "w = np.int16(w)\n",
    "v = np.int16(v)\n",
    "\n",
    "play_obj = sa.play_buffer(y, ch1, 2, fs)\n",
    "play_obj.wait_done()\n",
    "play_obj = sa.play_buffer(w, ch1, 2, fs)\n",
    "play_obj.wait_done()\n",
    "play_obj = sa.play_buffer(v, ch1, 2, fs)\n",
    "play_obj.wait_done()\n",
    "\n",
    "\n",
    "# Part D\n",
    "fig = plt.figure(1)\n",
    "fig.subplots_adjust(hspace = 1, wspace = 0.7)\n",
    "\n",
    "plt.subplot(3, 1, 1)\n",
    "plt.plot(t_y, y, color = 'r')\n",
    "plt.ylabel('Amplitude')\n",
    "plt.xlabel('Time')\n",
    "plt.title('y(t)')\n",
    "plt.xlim(0, 4)\n",
    "plt.ylim(-30000, 30000)\n",
    "\n",
    "\n",
    "plt.subplot(3, 1, 2)\n",
    "plt.plot(t_w, w, color = 'b')\n",
    "plt.ylabel('Amplitude')\n",
    "plt.xlabel('Time')\n",
    "plt.title('w(t)')\n",
    "plt.xlim(0, 4)\n",
    "plt.ylim(-30000, 30000)\n",
    "\n",
    "plt.subplot(3, 1, 3)\n",
    "plt.plot(t_v, v, color = 'k')\n",
    "plt.ylabel('Amplitude')\n",
    "plt.xlabel('Time')\n",
    "plt.title('v(t)')\n",
    "plt.xlim(0, 4)\n",
    "plt.ylim(-30000, 30000)\n",
    "plt.show()"
   ]
  },
  {
   "cell_type": "markdown",
   "metadata": {},
   "source": [
    "###  Discussion\n",
    "\n",
    "The audio will play backwards if we use negative time scaling factor. There should be no obvious change."
   ]
  },
  {
   "cell_type": "markdown",
   "metadata": {},
   "source": [
    "## Assignment 2 -- Time Shift Operation"
   ]
  },
  {
   "cell_type": "code",
   "execution_count": null,
   "metadata": {},
   "outputs": [],
   "source": [
    "# Assignment 2 - Time Shift Operation\n",
    "\n",
    "# Part A\n",
    "# x: input signal vector\n",
    "# fs: sampling rate (in Hz)\n",
    "# t0: time shift \n",
    "# returns t: time samples vector corresponding to y: scaled signal\n",
    "def timeshift(x, fs, t0):\n",
    "    n0 = abs(t0) * fs\n",
    "    pause = np.zeros(int(n0), dtype = np.int16)\n",
    "    if t0 < 0:\n",
    "        y = np.concatenate([pause, x])\n",
    "        t = np.arange(0, len(y), 1) * (1/fs)\n",
    "    else:\n",
    "        y = np.concatenate([x[int(n0) : len(x)], pause])\n",
    "        t = np.arange(0, len(y), 1) * (1/fs)\n",
    "    return y, t\n"
   ]
  },
  {
   "cell_type": "code",
   "execution_count": null,
   "metadata": {},
   "outputs": [],
   "source": [
    "# Assignment 2 - Title of Assignment 2\n",
    "\n",
    "# Part B\n",
    "fs, y = wav.read('train32.wav')\n",
    "ch1 = len(y.shape)\n",
    "t_y = np.arange(0, len(y), 1) * (1 / fs)\n",
    "y2, t_y2 = timeshift(y, fs, 0.5)\n",
    "y3, t_y3 = timeshift(y, fs, -2)\n",
    "y2= 0.7 * y2\n",
    "y3 = 0.7 * y3\n",
    "y = 0.7 * y\n",
    "y = np.int16(y)\n",
    "y2 = np.int16(y2)\n",
    "y3 = np.int16(y3)\n",
    "\n",
    "fig = plt.figure(2)\n",
    "fig.subplots_adjust(hspace = 1, wspace = 0.7)\n",
    "\n",
    "plt.subplot(3, 1, 1)\n",
    "plt.plot(t_y, y, color = 'r')\n",
    "plt.ylabel('Amplitude')\n",
    "plt.xlabel('Time')\n",
    "plt.title('y(t)')\n",
    "plt.xlim(0, 4)\n",
    "plt.ylim(-30000, 30000)\n",
    "\n",
    "\n",
    "plt.subplot(3, 1, 2)\n",
    "plt.plot(t_y2, y2, color = 'b')\n",
    "plt.ylabel('Amplitude')\n",
    "plt.xlabel('Time')\n",
    "plt.title('y2(t)')\n",
    "plt.xlim(0, 4)\n",
    "plt.ylim(-30000, 30000)\n",
    "\n",
    "plt.subplot(3, 1, 3)\n",
    "plt.plot(t_y3, y3, color = 'k')\n",
    "plt.ylabel('Amplitude')\n",
    "plt.xlabel('Time')\n",
    "plt.title('y3(t)')\n",
    "plt.xlim(0, 4)\n",
    "plt.ylim(-30000, 30000)\n",
    "plt.show()\n",
    "\n",
    "\n",
    "# Part C\n",
    "play_obj = sa.play_buffer(y, ch1, 2, fs)\n",
    "play_obj.wait_done()\n",
    "play_obj = sa.play_buffer(y2, ch1, 2, fs)\n",
    "play_obj.wait_done()\n",
    "play_obj = sa.play_buffer(y3, ch1, 2, fs)\n",
    "play_obj.wait_done()\n"
   ]
  },
  {
   "cell_type": "markdown",
   "metadata": {},
   "source": [
    "###  Discussion\n",
    "\n",
    "My current implementation correctly handles these cases."
   ]
  },
  {
   "cell_type": "markdown",
   "metadata": {},
   "source": [
    "## Assignment 3 -- Recovering Popular TV/Movie Audio File"
   ]
  },
  {
   "cell_type": "code",
   "execution_count": null,
   "metadata": {},
   "outputs": [],
   "source": [
    "# Assignment 3 -- Recovering Popular TV/Movie Audio File\n",
    "\n",
    "# Part A\n",
    "fs, y = wav.read('s7.wav')\n",
    "ch1 = len(y.shape)\n",
    "t_y = np.arange(0, len(y), 1) * (1 / fs)\n",
    "\n",
    "ya, ta = timescale(y, fs, 0.5)\n",
    "ya, ta = timeshift(ya, fs, 0.5)\n",
    "yb, tb = timescale(y, fs, 2)\n",
    "yb, tb = timeshift(yb, fs, 2)\n",
    "\n",
    "ya = 0.7 * ya\n",
    "yb = 0.7 * yb\n",
    "y = 0.7 * y\n",
    "y = np.int16(y)\n",
    "ya = np.int16(ya)\n",
    "yb = np.int16(yb)\n",
    "\n",
    "# Part B\n",
    "play_obj = sa.play_buffer(y, ch1, 2, fs)\n",
    "play_obj.wait_done()\n",
    "play_obj = sa.play_buffer(ya, ch1, 2, fs)\n",
    "play_obj.wait_done()\n",
    "play_obj = sa.play_buffer(yb, ch1, 2, fs)\n",
    "play_obj.wait_done()\n",
    "\n",
    "outfile = 'ya.wav'\n",
    "wav.write(outfile,fs,ya.astype('int16'))\n",
    "# Part C\n",
    "fig = plt.figure(3)\n",
    "fig.subplots_adjust(hspace = 1, wspace = 0.7)\n",
    "t3 = np.concatenate([t_y, ta])\n",
    "t3 = np.int32(t3)\n",
    "y3 = np.concatenate([y, ya])\n",
    "y3 = np.int32(y3)\n",
    "\n",
    "plt.subplot(2, 1, 1)\n",
    "plt.plot(t_y, y, color = 'r')\n",
    "plt.ylabel('Amplitude')\n",
    "plt.xlabel('Time')\n",
    "plt.title('y(t)')\n",
    "plt.xlim(0, max(t3))\n",
    "plt.ylim(min(y3), max(y3))\n",
    "\n",
    "plt.subplot(2, 1, 2)\n",
    "plt.plot(ta, ya, color = 'b')\n",
    "plt.ylabel('Amplitude')\n",
    "plt.xlabel('Time')\n",
    "plt.title('ya(t)')\n",
    "plt.xlim(0, max(t3))\n",
    "plt.ylim(min(y3), max(y3))\n",
    "plt.show()\n"
   ]
  },
  {
   "cell_type": "markdown",
   "metadata": {},
   "source": [
    "### Discussion\n",
    "\n",
    "Student used y(t) = x(2t - 0.5). This quote came from Finding Nemo.\n"
   ]
  }
 ],
 "metadata": {
  "kernelspec": {
   "display_name": "Python 3",
   "language": "python",
   "name": "python3"
  },
  "language_info": {
   "codemirror_mode": {
    "name": "ipython",
    "version": 3
   },
   "file_extension": ".py",
   "mimetype": "text/x-python",
   "name": "python",
   "nbconvert_exporter": "python",
   "pygments_lexer": "ipython3",
   "version": "3.6.5"
  }
 },
 "nbformat": 4,
 "nbformat_minor": 2
}
